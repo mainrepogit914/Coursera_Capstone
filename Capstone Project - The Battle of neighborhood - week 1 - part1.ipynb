{
 "cells": [
  {
   "cell_type": "markdown",
   "metadata": {},
   "source": [
    "<h1>The Battle of Neighborhoods (Week 1)</h1>"
   ]
  },
  {
   "cell_type": "markdown",
   "metadata": {},
   "source": [
    "<h2> Introduction/Business Problem</h2>"
   ]
  },
  {
   "cell_type": "markdown",
   "metadata": {},
   "source": [
    "<h3>Introduction</h3>"
   ]
  },
  {
   "cell_type": "markdown",
   "metadata": {},
   "source": [
    "I would like to move in Canada from Europe to discover that country and gain work experiences in Montreal. I'm currently a consultant in Europe, and want to find new job in center of Montreal, but i want to live in a house and not an apartment. But houses are to much expensives for me in center of the city, so what i want is to find the nearest house to my new work place that fit with my budget. The house need to be near highway or metro station to be able to go quickly in my work place or evrywhere else. I want apply my learning and build something very usefull for people who search the nearest house of their work place that fit with their budget and that are near highway or metro station. Other parameters can be search like :"
   ]
  },
  {
   "cell_type": "markdown",
   "metadata": {},
   "source": [
    "<ul>  \n",
    "    <li>House need to be to sell not for renting\n",
    "    </li>\n",
    "    <li>Price will not exceed $300k \n",
    "    </li>\n",
    "    <li>House size about 100m²</li>\n",
    "    <li>Venues with markets, restaurants and coffee shop</li>\n",
    "    <li>Near metro station less than 20minutes walking distance or near 5km of highway</li>\n",
    "</ul>"
   ]
  },
  {
   "cell_type": "markdown",
   "metadata": {},
   "source": [
    "<h3>Business Problem</h3>"
   ]
  },
  {
   "cell_type": "markdown",
   "metadata": {},
   "source": [
    "The businss probleme is to find a suitable house for sell in Montreal that meets with the demands of appropriate location, price and venues. The data required will be explained in the second section."
   ]
  },
  {
   "cell_type": "code",
   "execution_count": null,
   "metadata": {},
   "outputs": [],
   "source": []
  }
 ],
 "metadata": {
  "kernelspec": {
   "display_name": "Python",
   "language": "python",
   "name": "conda-env-python-py"
  },
  "language_info": {
   "codemirror_mode": {
    "name": "ipython",
    "version": 3
   },
   "file_extension": ".py",
   "mimetype": "text/x-python",
   "name": "python",
   "nbconvert_exporter": "python",
   "pygments_lexer": "ipython3",
   "version": "3.6.12"
  }
 },
 "nbformat": 4,
 "nbformat_minor": 4
}
