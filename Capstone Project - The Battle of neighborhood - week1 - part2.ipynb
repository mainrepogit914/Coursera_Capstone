{
 "cells": [
  {
   "cell_type": "markdown",
   "metadata": {},
   "source": [
    "<h1>The Battle of Neighborhoods (Week 1)</h1>"
   ]
  },
  {
   "cell_type": "markdown",
   "metadata": {},
   "source": [
    "<h2> Data Section </h2>"
   ]
  },
  {
   "cell_type": "markdown",
   "metadata": {},
   "source": [
    "<h3>Description of the Data</h3>"
   ]
  },
  {
   "cell_type": "markdown",
   "metadata": {},
   "source": [
    "The datas required are :\n",
    "<ul>\n",
    "<li>List of neighborhoods of Montreal in Canada with their geodata (latitude and longitude).\n",
    "<li>List of houses for sale in Montreal area with their addresses and price.\n",
    "<li>List of Highay entrances and Subway metro stations in Montreal with their relative location.\n",
    "<li>Preferably, a list of house for sale with additional information, such as price, address, area, # of beds\n",
    "<li>Venues for each Montreal neighborhoods.\n",
    "</ul>"
   ]
  },
  {
   "cell_type": "markdown",
   "metadata": {},
   "source": [
    "<h3> How it will be used to solve the problem</h3>"
   ]
  },
  {
   "cell_type": "markdown",
   "metadata": {},
   "source": [
    "<ul>\n",
    "    <li>Use Foursquare and geopy data to map top 10 venues for all Montreal neighborhoods and clustered in groups ( as per Course LAB).\n",
    "<li>Use foursquare and geopy data to map the location of metro stations , separately and on top of the above clustered map in order to be able to identify the venues and amenities near each metro station, or explore each public transport location separately\n",
    "<li>Use Foursquare and geopy data to map the location of sales places, in some form, linked to the public transport locations.\n",
    "<li>Create a map that depicts, for instance, the average sell price per square ft, around a radious of (2 km) around each subway station or (5 km) around highway entrences - or a similar metric. I will be able to quickly point to the popups to know the relative price per subway area.\n",
    "<li>Addresses from sales locations will be converted to geodata( lat, long) using Geopy-distance and Nominatim.\n",
    "<li>Data will be searched in open data sources if available, from real estate sites if open to reading, libraries or other government agencies such as Metrorail, etc.\n",
    "</ul>"
   ]
  },
  {
   "cell_type": "code",
   "execution_count": null,
   "metadata": {},
   "outputs": [],
   "source": []
  }
 ],
 "metadata": {
  "kernelspec": {
   "display_name": "Python",
   "language": "python",
   "name": "conda-env-python-py"
  },
  "language_info": {
   "codemirror_mode": {
    "name": "ipython",
    "version": 3
   },
   "file_extension": ".py",
   "mimetype": "text/x-python",
   "name": "python",
   "nbconvert_exporter": "python",
   "pygments_lexer": "ipython3",
   "version": "3.6.12"
  }
 },
 "nbformat": 4,
 "nbformat_minor": 4
}
